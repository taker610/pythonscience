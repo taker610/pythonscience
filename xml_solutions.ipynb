{
 "cells": [
  {
   "cell_type": "markdown",
   "metadata": {},
   "source": [
    "# XML example and exercise\n",
    "****\n",
    "+ study examples of accessing nodes in XML tree structure  \n",
    "+ work on exercise to be completed and submitted\n",
    "****\n",
    "+ reference: https://docs.python.org/2.7/library/xml.etree.elementtree.html\n",
    "+ data source: http://www.dbis.informatik.uni-goettingen.de/Mondial\n",
    "****"
   ]
  },
  {
   "cell_type": "code",
   "execution_count": 1,
   "metadata": {
    "collapsed": true
   },
   "outputs": [],
   "source": [
    "from xml.etree import ElementTree as ET"
   ]
  },
  {
   "cell_type": "markdown",
   "metadata": {},
   "source": [
    "## XML example\n",
    "\n",
    "+ for details about tree traversal and iterators, see https://docs.python.org/2.7/library/xml.etree.elementtree.html"
   ]
  },
  {
   "cell_type": "code",
   "execution_count": 24,
   "metadata": {
    "collapsed": true
   },
   "outputs": [],
   "source": [
    "from xml.etree import ElementTree as ET\n",
    "document = ET.parse( 'C:\\data_wrangling_xml/mondial_database.xml' )"
   ]
  },
  {
   "cell_type": "code",
   "execution_count": 3,
   "metadata": {
    "collapsed": false
   },
   "outputs": [
    {
     "name": "stdout",
     "output_type": "stream",
     "text": [
      "* Albania: Tirana, Shkodër, Durrës, Vlorë, Elbasan, Korçë\n",
      "* Greece: Komotini, Kavala, Athina, Peiraias, Peristeri, Acharnes, Patra, Kozani, Kerkyra, Ioannina, Thessaloniki, Iraklio, Chania, Ermoupoli, Rhodes, Tripoli, Lamia, Chalkida, Larissa, Volos, Mytilini, Karyes\n",
      "* Macedonia: Skopje, Kumanovo\n",
      "* Serbia: Beograd, Novi Sad, Niš\n",
      "* Montenegro: Podgorica\n",
      "* Kosovo: Prishtine\n",
      "* Andorra: Andorra la Vella\n"
     ]
    }
   ],
   "source": [
    "# print names of all countries and their cities\n",
    "for element in document_tree.iterfind('country'):\n",
    "    print '* ' + element.find('name').text + ':',\n",
    "    capitals_string = ''\n",
    "    for subelement in element.getiterator('city'):\n",
    "        capitals_string += subelement.find('name').text + ', '\n",
    "    print capitals_string[:-2]"
   ]
  },
  {
   "cell_type": "markdown",
   "metadata": {},
   "source": [
    "****\n",
    "## XML exercise\n",
    "\n",
    "Using data in 'data/mondial_database.xml', the examples above, and refering to https://docs.python.org/2.7/library/xml.etree.elementtree.html, find\n",
    "\n",
    "1. 10 countries with the lowest infant mortality rates\n",
    "2. 10 cities with the largest population\n",
    "3. 10 ethnic groups with the largest overall populations (sum of best/latest estimates over all countries)\n",
    "4. name and country of a) longest river, b) largest lake and c) airport at highest elevation"
   ]
  },
  {
   "cell_type": "code",
   "execution_count": 4,
   "metadata": {
    "collapsed": true
   },
   "outputs": [],
   "source": [
    "document = ET.parse( './data/mondial_database.xml' )"
   ]
  },
  {
   "cell_type": "code",
   "execution_count": 3,
   "metadata": {
    "collapsed": true
   },
   "outputs": [],
   "source": [
    "# Get root\n",
    "root=document.getroot()"
   ]
  },
  {
   "cell_type": "markdown",
   "metadata": {},
   "source": [
    "### Question 1"
   ]
  },
  {
   "cell_type": "code",
   "execution_count": 6,
   "metadata": {
    "collapsed": false
   },
   "outputs": [
    {
     "name": "stdout",
     "output_type": "stream",
     "text": [
      "Top 10 countries with lowest infant mortality rates are \n",
      "\n",
      "['Monaco', 'Romania', 'Fiji', 'Brunei', 'Grenada', 'Mauritius', 'Panama', 'Seychelles', 'United Arab Emirates', 'Barbados']\n"
     ]
    }
   ],
   "source": [
    "# Let's prepare a country_mortality list\n",
    "country_mortality = []\n",
    "for i in range(len(root)):\n",
    "    try:\n",
    "        country_mortality.append((root[i].find('name').text, root[i].find('infant_mortality').text))\n",
    "    except:\n",
    "        continue\n",
    "# To get top 10 sort them and get the first 10\n",
    "country_mortality.sort(key=lambda x: x[1])\n",
    "print \"Top 10 countries with lowest infant mortality rates are \\n\"\n",
    "print map(lambda x: x[0],country_mortality[:10])"
   ]
  },
  {
   "cell_type": "markdown",
   "metadata": {},
   "source": [
    "### Question 2"
   ]
  },
  {
   "cell_type": "code",
   "execution_count": 29,
   "metadata": {
    "collapsed": false
   },
   "outputs": [
    {
     "name": "stdout",
     "output_type": "stream",
     "text": [
      "Top 10 countries with highest population in 2011 are \n",
      "\n",
      "['Japan', 'Russia', 'Bangladesh', 'Nigeria', 'Pakistan', 'Brazil', 'Indonesia', 'United States', 'India', 'China']\n"
     ]
    }
   ],
   "source": [
    "country_pop =[]\n",
    "for i in range(len(root)):\n",
    "    country = root[i].find('name').text\n",
    "    year_pop = {}\n",
    "    for subelement in root[i].iterfind('population'):\n",
    "        year_pop.update({subelement.attrib['year']: int(subelement.text)})\n",
    "    try:\n",
    "        latest_pop = year_pop[str(max(map(int,year_pop.keys())))]\n",
    "        country_pop.append((country,latest_pop))\n",
    "    except:\n",
    "        continue\n",
    "country_pop.sort(key=lambda x: x[1])\n",
    "print \"Top 10 countries with highest population in 2011 are \\n\"\n",
    "print map(lambda x: x[0],country_pop[-10:])   \n",
    "\n"
   ]
  },
  {
   "cell_type": "markdown",
   "metadata": {},
   "source": [
    "### Question 3"
   ]
  },
  {
   "cell_type": "code",
   "execution_count": 41,
   "metadata": {
    "collapsed": false,
    "scrolled": true
   },
   "outputs": [
    {
     "name": "stdout",
     "output_type": "stream",
     "text": [
      "The top 10 ethnicities with largest overall populations\n",
      "\n",
      "['Malay', 'Japanese', 'Russian', 'Bengali', 'Mestizo', 'Dravidian', 'African', 'European', 'Indo-Aryan', 'Han Chinese']\n"
     ]
    }
   ],
   "source": [
    "country_pop = []\n",
    "ethnic_groups = {}\n",
    "for i in range(len(root)):\n",
    "    country = root[i].find('name').text\n",
    "    year_pop = {}\n",
    "    for subelement in root[i].iterfind('population'):\n",
    "        year_pop.update({subelement.attrib['year']: int(subelement.text)})\n",
    "    try:\n",
    "        latest_pop = year_pop[str(max(map(int,year_pop.keys())))]\n",
    "        country_pop.append((country,latest_pop))\n",
    "        for ethnic_element in root[i].iterfind('ethnicgroup'):\n",
    "            new_pop = float(ethnic_element.attrib['percentage'])*latest_pop\n",
    "            if ethnic_element.text in ethnic_groups.keys():\n",
    "                ethnic_groups[ethnic_element.text] = ethnic_groups[ethnic_element.text] + new_pop\n",
    "            else:\n",
    "                ethnic_groups.update({ethnic_element.text: new_pop})\n",
    "    except:\n",
    "        continue\n",
    "print \"The top 10 ethnicities with largest overall populations\\n\"\n",
    "print sorted(ethnic_groups, key=ethnic_groups.get)[-10:]"
   ]
  },
  {
   "cell_type": "markdown",
   "metadata": {},
   "source": [
    "### Question 4 Hint"
   ]
  },
  {
   "cell_type": "markdown",
   "metadata": {},
   "source": [
    "For all the parts: \n",
    "Create a country code to Country Name mapping by iterating over root childs using attrib and find functions\n",
    "* Rivers\n",
    "    1. Extract the rivers by iterating over root and using root[i].find('river')\n",
    "    2. Extract lengths and country codes\n",
    "    3. Map the country codes to original country names using the mapping generated above\n",
    "\n",
    "Similar analysis for airports and lake\n"
   ]
  },
  {
   "cell_type": "code",
   "execution_count": 138,
   "metadata": {
    "collapsed": false
   },
   "outputs": [
    {
     "name": "stdout",
     "output_type": "stream",
     "text": [
      "[('Senegal', 'SN'), ('Guinea-Bissau', 'GNB'), ('Sierra Leone', 'WAL'), ('Uganda', 'EAU'), ('Lesotho', 'LS'), ('Madagascar', 'RM'), ('Malawi', 'MW'), ('Mozambique', 'MOC'), ('Mauritius', 'MS'), ('Mayotte', 'MAYO'), ('Swaziland', 'SD'), ('Reunion', 'REUN'), ('Saint Helena', 'HELX'), ('Sao Tome and Principe', 'STP'), ('Seychelles', 'SY')]\n"
     ]
    }
   ],
   "source": [
    "countries = []\n",
    "for child in root.findall('country'):\n",
    "    try:\n",
    "        code = child.attrib['car_code']    \n",
    "        countries.append((country,code))\n",
    "    except: \n",
    "        continue   \n",
    "print countries"
   ]
  },
  {
   "cell_type": "code",
   "execution_count": 180,
   "metadata": {
    "collapsed": false
   },
   "outputs": [
    {
     "name": "stdout",
     "output_type": "stream",
     "text": [
      "['CO BR PE', 6448, 'Amazonas']\n"
     ]
    }
   ],
   "source": [
    "rivers = []\n",
    "river_names = []\n",
    "for child in root.findall('river'):\n",
    "    try:\n",
    "        river_name = child.find('name').text\n",
    "        code = child.attrib['country']\n",
    "        length = int(child.find('length').text)\n",
    "        rivers.append([code, length, river_name])\n",
    "    except:\n",
    "        continue\n",
    "rivers.sort(key=lambda x: x[1], reverse=True)\n",
    "print rivers[0]"
   ]
  },
  {
   "cell_type": "code",
   "execution_count": 181,
   "metadata": {
    "collapsed": false
   },
   "outputs": [
    {
     "name": "stdout",
     "output_type": "stream",
     "text": [
      "['R AZ KAZ IR TM', 386400, 'Caspian Sea']\n"
     ]
    }
   ],
   "source": [
    "lakes = []\n",
    "for child in root.findall('lake'):\n",
    "    try:\n",
    "        lake_name = child.find('name').text\n",
    "        code = child.attrib['country']\n",
    "        area = int(child.find('area').text)\n",
    "        lakes.append([code, area, lake_name])\n",
    "    except:\n",
    "        continue\n",
    "lakes.sort(key=lambda x: x[1], reverse=True)\n",
    "print lakes[0]"
   ]
  },
  {
   "cell_type": "code",
   "execution_count": 182,
   "metadata": {
    "collapsed": false
   },
   "outputs": [
    {
     "name": "stdout",
     "output_type": "stream",
     "text": [
      "['BOL', 4063, 'El Alto Intl']\n"
     ]
    }
   ],
   "source": [
    "airports = []\n",
    "for child in root.findall('airport'):\n",
    "    try:\n",
    "        airport_name = child.find('name').text\n",
    "        code = child.attrib['country']\n",
    "        elevation = int(child.find('elevation').text)\n",
    "        airports.append([code, elevation, airport_name])\n",
    "    except:\n",
    "        continue\n",
    "airports.sort(key=lambda x: x[1], reverse=True)\n",
    "print airports[0]"
   ]
  },
  {
   "cell_type": "code",
   "execution_count": 189,
   "metadata": {
    "collapsed": false
   },
   "outputs": [
    {
     "name": "stdout",
     "output_type": "stream",
     "text": [
      "['Russia', 'Iran', 'Turkmenistan', 'Azerbaijan', 'Kazakhstan', 'Colombia', 'Bolivia', 'Brazil', 'Peru']\n"
     ]
    }
   ],
   "source": [
    "answer = []\n",
    "for country in countries:\n",
    "    if country[1] == 'CO' or country[1] == 'BR' or country[1] == 'PE' or country[1] == 'R' or country[1] == 'AZ' or country[1] == 'KAZ' or country[1] == 'IR' or country[1] == 'TM' or country[1] == 'BOL':\n",
    "        answer.append(country[0])\n",
    "print answer"
   ]
  },
  {
   "cell_type": "code",
   "execution_count": 201,
   "metadata": {
    "collapsed": false
   },
   "outputs": [
    {
     "name": "stdout",
     "output_type": "stream",
     "text": [
      "The longest river is the Amazonas located in CO BR PE (Columbia, Brazil, Peru).\n",
      "The length of the Amazonas is 6448.\n",
      "The largest lake is the Caspian Sea located in R AZ KAZ IR TM (Russia, Azerbaijan, Kazakhstan, Iran, Turkmenistan).\n",
      "The area of the Caspian Sea is 386400.\n",
      "The airport with highest elevation is the El Alto Intl located in BOL (Bolivia).\n",
      "The elevation of the El Alto Intl is 4063.\n"
     ]
    }
   ],
   "source": [
    "print \"The longest river is the \" + rivers[0][2] + \" located in \" + rivers[0][0] + \" (Columbia, Brazil, Peru).\" \n",
    "print \"The length of the \" + rivers[0][2] + \" is \" + str(rivers[0][1]) + \".\"\n",
    "print \"The largest lake is the \" + lakes[0][2] + \" located in \" + lakes[0][0] + \" (Russia, Azerbaijan, Kazakhstan, Iran, Turkmenistan).\" \n",
    "print \"The area of the \" + lakes[0][2] + \" is \" + str(lakes[0][1]) + \".\"\n",
    "print \"The airport with highest elevation is the \" + airports[0][2] + \" located in \" + airports[0][0] + \" (Bolivia).\" \n",
    "print \"The elevation of the \" + airports[0][2] + \" is \" + str(airports[0][1]) + \".\""
   ]
  }
 ],
 "metadata": {
  "kernelspec": {
   "display_name": "Python 2",
   "language": "python",
   "name": "python2"
  },
  "language_info": {
   "codemirror_mode": {
    "name": "ipython",
    "version": 2
   },
   "file_extension": ".py",
   "mimetype": "text/x-python",
   "name": "python",
   "nbconvert_exporter": "python",
   "pygments_lexer": "ipython2",
   "version": "2.7.10"
  }
 },
 "nbformat": 4,
 "nbformat_minor": 0
}
